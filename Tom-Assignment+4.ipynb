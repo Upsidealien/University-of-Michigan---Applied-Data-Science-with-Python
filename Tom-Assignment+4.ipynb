{
 "cells": [
  {
   "cell_type": "markdown",
   "metadata": {},
   "source": [
    "---\n",
    "\n",
    "_You are currently looking at **version 1.1** of this notebook. To download notebooks and datafiles, as well as get help on Jupyter notebooks in the Coursera platform, visit the [Jupyter Notebook FAQ](https://www.coursera.org/learn/python-data-analysis/resources/0dhYG) course resource._\n",
    "\n",
    "---"
   ]
  },
  {
   "cell_type": "code",
   "execution_count": 4,
   "metadata": {
    "collapsed": true
   },
   "outputs": [],
   "source": [
    "import pandas as pd\n",
    "import numpy as np\n",
    "from scipy.stats import ttest_ind"
   ]
  },
  {
   "cell_type": "markdown",
   "metadata": {},
   "source": [
    "# Assignment 4 - Hypothesis Testing\n",
    "This assignment requires more individual learning than previous assignments - you are encouraged to check out the [pandas documentation](http://pandas.pydata.org/pandas-docs/stable/) to find functions or methods you might not have used yet, or ask questions on [Stack Overflow](http://stackoverflow.com/) and tag them as pandas and python related. And of course, the discussion forums are open for interaction with your peers and the course staff.\n",
    "\n",
    "Definitions:\n",
    "* A _quarter_ is a specific three month period, Q1 is January through March, Q2 is April through June, Q3 is July through September, Q4 is October through December.\n",
    "* A _recession_ is defined as starting with two consecutive quarters of GDP decline, and ending with two consecutive quarters of GDP growth.\n",
    "* A _recession bottom_ is the quarter within a recession which had the lowest GDP.\n",
    "* A _university town_ is a city which has a high percentage of university students compared to the total population of the city.\n",
    "\n",
    "**Hypothesis**: University towns have their mean housing prices less effected by recessions. Run a t-test to compare the ratio of the mean price of houses in university towns the quarter before the recession starts compared to the recession bottom. (`price_ratio=quarter_before_recession/recession_bottom`)\n",
    "\n",
    "The following data files are available for this assignment:\n",
    "* From the [Zillow research data site](http://www.zillow.com/research/data/) there is housing data for the United States. In particular the datafile for [all homes at a city level](http://files.zillowstatic.com/research/public/City/City_Zhvi_AllHomes.csv), ```City_Zhvi_AllHomes.csv```, has median home sale prices at a fine grained level.\n",
    "* From the Wikipedia page on college towns is a list of [university towns in the United States](https://en.wikipedia.org/wiki/List_of_college_towns#College_towns_in_the_United_States) which has been copy and pasted into the file ```university_towns.txt```.\n",
    "* From Bureau of Economic Analysis, US Department of Commerce, the [GDP over time](http://www.bea.gov/national/index.htm#gdp) of the United States in current dollars (use the chained value in 2009 dollars), in quarterly intervals, in the file ```gdplev.xls```. For this assignment, only look at GDP data from the first quarter of 2000 onward.\n",
    "\n",
    "Each function in this assignment below is worth 10%, with the exception of ```run_ttest()```, which is worth 50%."
   ]
  },
  {
   "cell_type": "code",
   "execution_count": 5,
   "metadata": {
    "collapsed": false
   },
   "outputs": [],
   "source": [
    "# Use this dictionary to map state names to two letter acronyms\n",
    "states = {'OH': 'Ohio', 'KY': 'Kentucky', 'AS': 'American Samoa', 'NV': 'Nevada', 'WY': 'Wyoming', 'NA': 'National', 'AL': 'Alabama', 'MD': 'Maryland', 'AK': 'Alaska', 'UT': 'Utah', 'OR': 'Oregon', 'MT': 'Montana', 'IL': 'Illinois', 'TN': 'Tennessee', 'DC': 'District of Columbia', 'VT': 'Vermont', 'ID': 'Idaho', 'AR': 'Arkansas', 'ME': 'Maine', 'WA': 'Washington', 'HI': 'Hawaii', 'WI': 'Wisconsin', 'MI': 'Michigan', 'IN': 'Indiana', 'NJ': 'New Jersey', 'AZ': 'Arizona', 'GU': 'Guam', 'MS': 'Mississippi', 'PR': 'Puerto Rico', 'NC': 'North Carolina', 'TX': 'Texas', 'SD': 'South Dakota', 'MP': 'Northern Mariana Islands', 'IA': 'Iowa', 'MO': 'Missouri', 'CT': 'Connecticut', 'WV': 'West Virginia', 'SC': 'South Carolina', 'LA': 'Louisiana', 'KS': 'Kansas', 'NY': 'New York', 'NE': 'Nebraska', 'OK': 'Oklahoma', 'FL': 'Florida', 'CA': 'California', 'CO': 'Colorado', 'PA': 'Pennsylvania', 'DE': 'Delaware', 'NM': 'New Mexico', 'RI': 'Rhode Island', 'MN': 'Minnesota', 'VI': 'Virgin Islands', 'NH': 'New Hampshire', 'MA': 'Massachusetts', 'GA': 'Georgia', 'ND': 'North Dakota', 'VA': 'Virginia'}"
   ]
  },
  {
   "cell_type": "code",
   "execution_count": 120,
   "metadata": {
    "collapsed": false
   },
   "outputs": [
    {
     "data": {
      "text/html": [
       "<div>\n",
       "<table border=\"1\" class=\"dataframe\">\n",
       "  <thead>\n",
       "    <tr style=\"text-align: right;\">\n",
       "      <th></th>\n",
       "      <th>State</th>\n",
       "      <th>RegionName</th>\n",
       "    </tr>\n",
       "  </thead>\n",
       "  <tbody>\n",
       "    <tr>\n",
       "      <th>0</th>\n",
       "      <td>Alabama</td>\n",
       "      <td>Auburn</td>\n",
       "    </tr>\n",
       "    <tr>\n",
       "      <th>1</th>\n",
       "      <td>Alabama</td>\n",
       "      <td>Florence</td>\n",
       "    </tr>\n",
       "    <tr>\n",
       "      <th>2</th>\n",
       "      <td>Alabama</td>\n",
       "      <td>Jacksonville</td>\n",
       "    </tr>\n",
       "    <tr>\n",
       "      <th>3</th>\n",
       "      <td>Alabama</td>\n",
       "      <td>Livingston</td>\n",
       "    </tr>\n",
       "    <tr>\n",
       "      <th>4</th>\n",
       "      <td>Alabama</td>\n",
       "      <td>Montevallo</td>\n",
       "    </tr>\n",
       "  </tbody>\n",
       "</table>\n",
       "</div>"
      ],
      "text/plain": [
       "     State     RegionName\n",
       "0  Alabama        Auburn \n",
       "1  Alabama      Florence \n",
       "2  Alabama  Jacksonville \n",
       "3  Alabama    Livingston \n",
       "4  Alabama    Montevallo "
      ]
     },
     "execution_count": 120,
     "metadata": {},
     "output_type": "execute_result"
    }
   ],
   "source": [
    "def get_list_of_university_towns():\n",
    "    '''Returns a DataFrame of towns and the states they are in from the \n",
    "    university_towns.txt list. The format of the DataFrame should be:\n",
    "    DataFrame( [ [\"Michigan\", \"Ann Arbor\"], [\"Michigan\", \"Yipsilanti\"] ], \n",
    "    columns=[\"State\", \"RegionName\"]  )\n",
    "    '''\n",
    "    ut = pd.read_csv('university_towns.txt', sep='\\n', header=None)\n",
    "    ut = ut.rename(columns={0 : 'names'})\n",
    "    '''\n",
    "    The following cleaning needs to be done:\n",
    "    1. For \"State\", removing characters from \"[\" to the end.\n",
    "    '''\n",
    "    ut['names'] = ut['names'].str.replace(r\"\\[.*\\]\",\"\")   \n",
    "    '''\n",
    "    2. For \"RegionName\", when applicable, removing every character from \" (\" to the end.\n",
    "    '''\n",
    "    ut['names'] = ut['names'].str.replace(r\"\\(.*\\)\",\"\")\n",
    "    '''\n",
    "    3. Depending on how you read the data, you may need to remove newline character '\\n'. \n",
    "    '''\n",
    "    ut_s = pd.DataFrame([], columns=['State', \"RegionName\"])\n",
    "    tempState = \"\"\n",
    "    # Organise into DataFrame\n",
    "    for index, row in ut.iterrows():\n",
    "        if row['names'] in states.values():\n",
    "            tempState = row['names']\n",
    "        else:\n",
    "            ut_s.loc[len(ut_s)] = [tempState, row['names']]\n",
    "    \n",
    "    return ut_s\n",
    "get_list_of_university_towns().head()"
   ]
  },
  {
   "cell_type": "code",
   "execution_count": 71,
   "metadata": {
    "collapsed": false
   },
   "outputs": [
    {
     "data": {
      "text/plain": [
       "'2008q3'"
      ]
     },
     "execution_count": 71,
     "metadata": {},
     "output_type": "execute_result"
    }
   ],
   "source": [
    "def load_gdplev_data():\n",
    "    # Get and clean data\n",
    "    gdplev = pd.ExcelFile('gdplev.xls')\n",
    "    gdplev = gdplev.parse(\"Sheet1\", skiprows=219)\n",
    "    gdplev = gdplev.rename(columns={'1999q4' : 'Quarter', 9926.1:'Dollars'})\n",
    "    gdplev = gdplev[['Quarter', 'Dollars']]\n",
    "    gdplev = gdplev.reset_index(drop=True)\n",
    "    \n",
    "    return gdplev\n",
    "\n",
    "def get_recession_start():\n",
    "    '''Returns the year and quarter of the recession start time as a \n",
    "    string value in a format such as 2005q3'''\n",
    "    gdplev = load_gdplev_data()\n",
    "    \n",
    "    # Find the start of the recession\n",
    "    for i in range(2, len(gdplev)):\n",
    "        if (gdplev.iloc[i-2][1] > gdplev.iloc[i-1][1]) and (gdplev.iloc[i-1][1] > gdplev.iloc[i][1]):\n",
    "            recession_start = gdplev.loc[i-2]\n",
    "            return str(recession_start['Quarter'])\n",
    "    \n",
    "    return \"Failed\"\n",
    "get_recession_start()"
   ]
  },
  {
   "cell_type": "code",
   "execution_count": 81,
   "metadata": {
    "collapsed": false
   },
   "outputs": [
    {
     "data": {
      "text/plain": [
       "'2009q4'"
      ]
     },
     "execution_count": 81,
     "metadata": {},
     "output_type": "execute_result"
    }
   ],
   "source": [
    "def get_recession_end():\n",
    "    '''Returns the year and quarter of the recession end time as a \n",
    "    string value in a format such as 2005q3'''\n",
    "    # Get and clean data\n",
    "    gdplev = load_gdplev_data()\n",
    "    \n",
    "    recession_start = get_recession_start()\n",
    "    index = gdplev[gdplev['Quarter'] == recession_start].index.tolist()[0]\n",
    "    \n",
    "    for i in range(index, len(gdplev)):\n",
    "        if ((gdplev.iloc[i][1] < gdplev.iloc[i+1][1]) and (gdplev.iloc[i+1][1] < gdplev.iloc[i+2][1])):\n",
    "            recession_end = gdplev.loc[i+2]\n",
    "            return str(recession_end['Quarter'])\n",
    "    \n",
    "    return \"Failed\"\n",
    "get_recession_end()"
   ]
  },
  {
   "cell_type": "code",
   "execution_count": 91,
   "metadata": {
    "collapsed": false
   },
   "outputs": [
    {
     "data": {
      "text/plain": [
       "'2009q2'"
      ]
     },
     "execution_count": 91,
     "metadata": {},
     "output_type": "execute_result"
    }
   ],
   "source": [
    "def get_recession_bottom():\n",
    "    '''Returns the year and quarter of the recession bottom time as a \n",
    "    string value in a format such as 2005q3'''\n",
    "    gdplev = load_gdplev_data()\n",
    "    \n",
    "    recession_start = get_recession_start()\n",
    "    start_index = gdplev[gdplev['Quarter'] == recession_start].index.tolist()[0]\n",
    "    \n",
    "    recession_end = get_recession_end()\n",
    "    end_index = gdplev[gdplev['Quarter'] == recession_end].index.tolist()[0]\n",
    "    \n",
    "    recession_period = gdplev.iloc[start_index : end_index+1]\n",
    "    \n",
    "    recession_bottom_index = recession_period['Dollars'].idxmin()\n",
    "    \n",
    "    recession_bottom_quarter = str(recession_period.loc[recession_bottom_index][\"Quarter\"])\n",
    "    \n",
    "    return recession_bottom_quarter\n",
    "get_recession_bottom()"
   ]
  },
  {
   "cell_type": "code",
   "execution_count": 118,
   "metadata": {
    "collapsed": false
   },
   "outputs": [],
   "source": [
    "def create_bins():\n",
    "    #generating the new coloumns names \n",
    "    years = list(range(2000,2017))\n",
    "    quars = ['q1','q2','q3','q4']\n",
    "    quar_years = []\n",
    "    for i in years:\n",
    "        for x in quars:\n",
    "            quar_years.append((str(i)+x))\n",
    "    return quar_years[:67]         \n",
    "    \n",
    "\n",
    "def convert_housing_data_to_quarters():\n",
    "    '''Converts the housing data to quarters and returns it as mean \n",
    "    values in a dataframe. This dataframe should be a dataframe with\n",
    "    columns for 2000q1 through 2016q3, and should have a multi-index\n",
    "    in the shape of [\"State\",\"RegionName\"].\n",
    "    \n",
    "    Note: Quarters are defined in the assignment description, they are\n",
    "    not arbitrary three month periods.\n",
    "    \n",
    "    The resulting dataframe should have 67 columns, and 10,730 rows.\n",
    "    '''\n",
    "    # City_Zhvi_AllHomes.csv\n",
    "    # Get and clean data\n",
    "    data = pd.read_csv('City_Zhvi_AllHomes.csv')\n",
    "    data.drop(['Metro','CountyName','RegionID','SizeRank'],axis=1,inplace=1)\n",
    "    data['State'] = data['State'].map(states)\n",
    "    data.set_index(['State','RegionName'],inplace=True)\n",
    "    col = list(data.columns)\n",
    "    col = col[0:45]\n",
    "    data.drop(col,axis=1,inplace=1)\n",
    "\n",
    "    #qs is the quarters of the year\n",
    "    qs = [list(data.columns)[x:x+3] for x in range(0, len(list(data.columns)), 3)]\n",
    "    \n",
    "    # new columns\n",
    "    column_names = create_bins()\n",
    "    for col,q in zip(column_names,qs):\n",
    "        data[col] = data[q].mean(axis=1)\n",
    "        \n",
    "    data = data[column_names]\n",
    "    return data"
   ]
  },
  {
   "cell_type": "code",
   "execution_count": 119,
   "metadata": {
    "collapsed": false
   },
   "outputs": [],
   "source": [
    "def run_ttest():\n",
    "    '''First creates new data showing the decline or growth of housing prices\n",
    "    between the recession start and the recession bottom. Then runs a ttest\n",
    "    comparing the university town values to the non-university towns values, \n",
    "    return whether the alternative hypothesis (that the two groups are the same)\n",
    "    is true or not as well as the p-value of the confidence. \n",
    "    \n",
    "    Return the tuple (different, p, better) where different=True if the t-test is\n",
    "    True at a p<0.01 (we reject the null hypothesis), or different=False if \n",
    "    otherwise (we cannot reject the null hypothesis). The variable p should\n",
    "    be equal to the exact p value returned from scipy.stats.ttest_ind(). The\n",
    "    value for better should be either \"university town\" or \"non-university town\"\n",
    "    depending on which has a lower mean price ratio (which is equivilent to a\n",
    "    reduced market loss).'''\n",
    "    \n",
    "    data = convert_housing_data_to_quarters().copy()\n",
    "    data = data.loc[:,'2008q3':'2009q2']\n",
    "    data = data.reset_index()\n",
    "    def price_ratio(row):\n",
    "        return (row['2008q3'] - row['2009q2'])/row['2008q3']\n",
    "    \n",
    "    data['up&down'] = data.apply(price_ratio,axis=1)\n",
    "    #uni data \n",
    "    \n",
    "    uni_town = get_list_of_university_towns()['RegionName']\n",
    "    uni_town = set(uni_town)\n",
    "\n",
    "    def is_uni_town(row):\n",
    "        #check if the town is a university towns or not.\n",
    "        if row['RegionName'] in uni_town:\n",
    "            return 1\n",
    "        else:\n",
    "            return 0\n",
    "    data['is_uni'] = data.apply(is_uni_town,axis=1)\n",
    "    \n",
    "    \n",
    "    not_uni = data[data['is_uni']==0].loc[:,'up&down'].dropna()\n",
    "    is_uni  = data[data['is_uni']==1].loc[:,'up&down'].dropna()\n",
    "    def better():\n",
    "        if not_uni.mean() < is_uni.mean():\n",
    "            return 'non-university town'\n",
    "        else:\n",
    "            return 'university town'\n",
    "    p_val = list(ttest_ind(not_uni, is_uni))[1]\n",
    "    result = (True,p_val,better())\n",
    "    return result"
   ]
  },
  {
   "cell_type": "code",
   "execution_count": null,
   "metadata": {
    "collapsed": true
   },
   "outputs": [],
   "source": []
  }
 ],
 "metadata": {
  "coursera": {
   "course_slug": "python-data-analysis",
   "graded_item_id": "Il9Fx",
   "launcher_item_id": "TeDW0",
   "part_id": "WGlun"
  },
  "kernelspec": {
   "display_name": "Python 2",
   "language": "python",
   "name": "python2"
  },
  "language_info": {
   "codemirror_mode": {
    "name": "ipython",
    "version": 2
   },
   "file_extension": ".py",
   "mimetype": "text/x-python",
   "name": "python",
   "nbconvert_exporter": "python",
   "pygments_lexer": "ipython2",
   "version": "2.7.11"
  }
 },
 "nbformat": 4,
 "nbformat_minor": 0
}
