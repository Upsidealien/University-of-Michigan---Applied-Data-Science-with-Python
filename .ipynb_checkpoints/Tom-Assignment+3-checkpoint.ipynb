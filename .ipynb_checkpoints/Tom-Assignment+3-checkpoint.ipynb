{
 "cells": [
  {
   "cell_type": "markdown",
   "metadata": {},
   "source": [
    "---\n",
    "\n",
    "_You are currently looking at **version 1.5** of this notebook. To download notebooks and datafiles, as well as get help on Jupyter notebooks in the Coursera platform, visit the [Jupyter Notebook FAQ](https://www.coursera.org/learn/python-data-analysis/resources/0dhYG) course resource._\n",
    "\n",
    "---"
   ]
  },
  {
   "cell_type": "markdown",
   "metadata": {},
   "source": [
    "# Assignment 3 - More Pandas\n",
    "This assignment requires more individual learning then the last one did - you are encouraged to check out the [pandas documentation](http://pandas.pydata.org/pandas-docs/stable/) to find functions or methods you might not have used yet, or ask questions on [Stack Overflow](http://stackoverflow.com/) and tag them as pandas and python related. And of course, the discussion forums are open for interaction with your peers and the course staff."
   ]
  },
  {
   "cell_type": "markdown",
   "metadata": {},
   "source": [
    "### Question 1 (20%)\n",
    "Load the energy data from the file `Energy Indicators.xls`, which is a list of indicators of [energy supply and renewable electricity production](Energy%20Indicators.xls) from the [United Nations](http://unstats.un.org/unsd/environment/excel_file_tables/2013/Energy%20Indicators.xls) for the year 2013, and should be put into a DataFrame with the variable name of **energy**.\n",
    "\n",
    "Keep in mind that this is an Excel file, and not a comma separated values file. Also, make sure to exclude the footer and header information from the datafile. The first two columns are unneccessary, so you should get rid of them, and you should change the column labels so that the columns are:\n",
    "\n",
    "`['Country', 'Energy Supply', 'Energy Supply per Capita', '% Renewable']`\n",
    "\n",
    "Convert `Energy Supply` to gigajoules (there are 1,000,000 gigajoules in a petajoule). For all countries which have missing data (e.g. data with \"...\") make sure this is reflected as `np.NaN` values.\n",
    "\n",
    "Rename the following list of countries (for use in later questions):\n",
    "\n",
    "```\"Republic of Korea\": \"South Korea\",\n",
    "\"United States of America\": \"United States\",\n",
    "\"United Kingdom of Great Britain and Northern Ireland\": \"United Kingdom\",\n",
    "\"China, Hong Kong Special Administrative Region\": \"Hong Kong\"```\n",
    "\n",
    "There are also several countries with numbers and/or parenthesis in their name. Be sure to remove these, \n",
    "\n",
    "e.g. \n",
    "\n",
    "`'Bolivia (Plurinational State of)'` should be `'Bolivia'`, \n",
    "\n",
    "`'Switzerland17'` should be `'Switzerland'`.\n",
    "\n",
    "<br>\n",
    "\n",
    "Next, load the GDP data from the file `world_bank.csv`, which is a csv containing countries' GDP from 1960 to 2015 from [World Bank](http://data.worldbank.org/indicator/NY.GDP.MKTP.CD). Call this DataFrame **GDP**. \n",
    "\n",
    "Make sure to skip the header, and rename the following list of countries:\n",
    "\n",
    "```\"Korea, Rep.\": \"South Korea\", \n",
    "\"Iran, Islamic Rep.\": \"Iran\",\n",
    "\"Hong Kong SAR, China\": \"Hong Kong\"```\n",
    "\n",
    "<br>\n",
    "\n",
    "Finally, load the [Sciamgo Journal and Country Rank data for Energy Engineering and Power Technology](http://www.scimagojr.com/countryrank.php?category=2102) from the file `scimagojr-3.xlsx`, which ranks countries based on their journal contributions in the aforementioned area. Call this DataFrame **ScimEn**.\n",
    "\n",
    "Join the three datasets: GDP, Energy, and ScimEn into a new dataset (using the intersection of country names). Use only the last 10 years (2006-2015) of GDP data and only the top 15 countries by Scimagojr 'Rank' (Rank 1 through 15). \n",
    "\n",
    "The index of this DataFrame should be the name of the country, and the columns should be ['Rank', 'Documents', 'Citable documents', 'Citations', 'Self-citations',\n",
    "       'Citations per document', 'H index', 'Energy Supply',\n",
    "       'Energy Supply per Capita', '% Renewable', '2006', '2007', '2008',\n",
    "       '2009', '2010', '2011', '2012', '2013', '2014', '2015'].\n",
    "\n",
    "*This function should return a DataFrame with 20 columns and 15 entries.*"
   ]
  },
  {
   "cell_type": "code",
   "execution_count": 2,
   "metadata": {
    "collapsed": true
   },
   "outputs": [],
   "source": [
    "import pandas as pd\n",
    "import numpy as np"
   ]
  },
  {
   "cell_type": "markdown",
   "metadata": {},
   "source": [
    "## Cleaning Energy Data Source"
   ]
  },
  {
   "cell_type": "code",
   "execution_count": 96,
   "metadata": {
    "collapsed": false
   },
   "outputs": [
    {
     "data": {
      "text/plain": [
       "(15, 20)"
      ]
     },
     "execution_count": 96,
     "metadata": {},
     "output_type": "execute_result"
    }
   ],
   "source": [
    "# First let's load the data from the energy xlsx\n",
    "energy = pd.read_excel(\"Energy Indicators.xls\", header=None, footer=None)\n",
    "energy.drop(energy.columns[:2], axis=1, inplace=True)\n",
    "energy = energy[11:245]\n",
    "energy.rename(columns={2 : \"Country\", 3 : 'Energy Supply', 4 : 'Energy Supply per Capita', 5 : '% Renewable'}, inplace=True)\n",
    "energy = energy[pd.isnull(energy['Country']) == False]\n",
    "# Replace Null values\n",
    "energy = energy.replace(\"...\", np.nan)\n",
    "# Rescaling the energy supply column\n",
    "energy['Energy Supply'] = energy['Energy Supply'] * 1000000\n",
    "# Replacing country names\n",
    "energy[energy['Country'] == 'Republic of Korea'] = 'South Korea'\n",
    "energy[energy['Country'] == 'United States of America20'] = 'United States'\n",
    "energy[energy['Country'] == 'United Kingdom of Great Britain and Northern Ireland19'] = 'United Kingdom'\n",
    "energy[energy['Country'] == 'China, Hong Kong Special Administrative Region3'] = 'Hong Kong'\n",
    "# Removing numbers from country names\n",
    "energy['Country'] = energy['Country'].str.replace('\\d+', '')\n",
    "energy.head()\n",
    "\n",
    "\n",
    "# Removing Paranthesis from country names\n",
    "energy['Country'] = energy['Country'].str.replace(r\"\\(.*\\)\",\"\")\n",
    "energy['Country'] = energy['Country'].str.strip()\n",
    "energy.head()\n",
    "\n",
    "\n",
    "# Cleaning GDP Data\n",
    "gdp = pd.read_csv(\"world_bank.csv\")\n",
    "gdp = gdp[4:]\n",
    "gdp = gdp.rename(columns={'Data Source' : 'Country'})\n",
    "# Replace some country names\n",
    "gdp[gdp['Country'] == 'Korea, Rep.'] = 'South Korea'\n",
    "gdp[gdp['Country'] == 'Iran, Islamic Rep.'] = 'Iran'\n",
    "gdp[gdp['Country'] == 'Hong Kong SAR, China'] = 'Hong Kong'\n",
    "\n",
    "gdp = gdp[['Country', 'Unnamed: 49'\n",
    "          , 'Unnamed: 50', 'Unnamed: 51'\n",
    "          , 'Unnamed: 52', 'Unnamed: 53'\n",
    "          , 'Unnamed: 54', 'Unnamed: 55'\n",
    "          , 'Unnamed: 56', 'Unnamed: 57'\n",
    "          , 'Unnamed: 58']]\n",
    "\n",
    "# ScimEm Cleaning\n",
    "ScimEn = pd.read_excel(\"scimagojr-3.xlsx\", header=None, footer=None)\n",
    "ScimEn.columns = ScimEn.iloc[0]\n",
    "ScimEn = ScimEn.reindex(ScimEn.index.drop(0))\n",
    "ScimEn = ScimEn[:15]\n",
    "\n",
    "\n",
    "# Joining DataFrames\n",
    "df = energy.merge(ScimEn[['Country', 'Rank', 'Documents', 'Citable documents', 'Citations', 'Self-citations', 'Citations per document', 'H index']], on='Country', how='right')\n",
    "df.head()\n",
    "gdp = gdp.rename(columns={'Country' : 'Country',\n",
    "                        'Unnamed: 49' : '2006', \n",
    "                       'Unnamed: 50' : '2007',\n",
    "                       'Unnamed: 51' : '2008',\n",
    "                       'Unnamed: 52' : '2009',\n",
    "                       'Unnamed: 53' : '2010',\n",
    "                       'Unnamed: 54' : '2011',\n",
    "                       'Unnamed: 55' : '2012',\n",
    "                       'Unnamed: 56' : '2013',\n",
    "                       'Unnamed: 57' : '2014',\n",
    "                       'Unnamed: 58' : '2015'})\n",
    "\n",
    "gdp = gdp[['Country', '2006',\n",
    "                 '2007', '2008',\n",
    "                 '2009', '2010',\n",
    "                 '2011', '2012',\n",
    "                 '2013', '2014',\n",
    "                 '2015']]\n",
    "\n",
    "df = df.merge(gdp, on='Country', how='left')\n",
    "\n",
    "df = df.set_index('Country')"
   ]
  },
  {
   "cell_type": "markdown",
   "metadata": {},
   "source": [
    "# Assignment Questions "
   ]
  },
  {
   "cell_type": "code",
   "execution_count": 97,
   "metadata": {
    "collapsed": false
   },
   "outputs": [],
   "source": [
    "def answer_one():\n",
    "    shape = df.shape\n",
    "    if ((shape[0] == 15) & (shape[1] == 20)):\n",
    "        return df\n",
    "    return None"
   ]
  },
  {
   "cell_type": "code",
   "execution_count": 98,
   "metadata": {
    "collapsed": false
   },
   "outputs": [
    {
     "data": {
      "text/html": [
       "<div>\n",
       "<table border=\"1\" class=\"dataframe\">\n",
       "  <thead>\n",
       "    <tr style=\"text-align: right;\">\n",
       "      <th></th>\n",
       "      <th>Energy Supply</th>\n",
       "      <th>Energy Supply per Capita</th>\n",
       "      <th>% Renewable</th>\n",
       "      <th>Rank</th>\n",
       "      <th>Documents</th>\n",
       "      <th>Citable documents</th>\n",
       "      <th>Citations</th>\n",
       "      <th>Self-citations</th>\n",
       "      <th>Citations per document</th>\n",
       "      <th>H index</th>\n",
       "      <th>2006</th>\n",
       "      <th>2007</th>\n",
       "      <th>2008</th>\n",
       "      <th>2009</th>\n",
       "      <th>2010</th>\n",
       "      <th>2011</th>\n",
       "      <th>2012</th>\n",
       "      <th>2013</th>\n",
       "      <th>2014</th>\n",
       "      <th>2015</th>\n",
       "    </tr>\n",
       "    <tr>\n",
       "      <th>Country</th>\n",
       "      <th></th>\n",
       "      <th></th>\n",
       "      <th></th>\n",
       "      <th></th>\n",
       "      <th></th>\n",
       "      <th></th>\n",
       "      <th></th>\n",
       "      <th></th>\n",
       "      <th></th>\n",
       "      <th></th>\n",
       "      <th></th>\n",
       "      <th></th>\n",
       "      <th></th>\n",
       "      <th></th>\n",
       "      <th></th>\n",
       "      <th></th>\n",
       "      <th></th>\n",
       "      <th></th>\n",
       "      <th></th>\n",
       "      <th></th>\n",
       "    </tr>\n",
       "  </thead>\n",
       "  <tbody>\n",
       "    <tr>\n",
       "      <th>Australia</th>\n",
       "      <td>5.386e+09</td>\n",
       "      <td>231</td>\n",
       "      <td>11.8108</td>\n",
       "      <td>14</td>\n",
       "      <td>8831</td>\n",
       "      <td>8725</td>\n",
       "      <td>90765</td>\n",
       "      <td>15606</td>\n",
       "      <td>10.28</td>\n",
       "      <td>107</td>\n",
       "      <td>9.92339e+11</td>\n",
       "      <td>1.02194e+12</td>\n",
       "      <td>1.06034e+12</td>\n",
       "      <td>1.09964e+12</td>\n",
       "      <td>1.11965e+12</td>\n",
       "      <td>1.14225e+12</td>\n",
       "      <td>1.16943e+12</td>\n",
       "      <td>1.21191e+12</td>\n",
       "      <td>1.24148e+12</td>\n",
       "      <td>1.27252e+12</td>\n",
       "    </tr>\n",
       "    <tr>\n",
       "      <th>Brazil</th>\n",
       "      <td>1.2149e+10</td>\n",
       "      <td>59</td>\n",
       "      <td>69.648</td>\n",
       "      <td>15</td>\n",
       "      <td>8668</td>\n",
       "      <td>8596</td>\n",
       "      <td>60702</td>\n",
       "      <td>14396</td>\n",
       "      <td>7</td>\n",
       "      <td>86</td>\n",
       "      <td>1.77479e+12</td>\n",
       "      <td>1.84508e+12</td>\n",
       "      <td>1.95712e+12</td>\n",
       "      <td>2.05681e+12</td>\n",
       "      <td>2.05421e+12</td>\n",
       "      <td>2.20887e+12</td>\n",
       "      <td>2.29524e+12</td>\n",
       "      <td>2.33921e+12</td>\n",
       "      <td>2.40974e+12</td>\n",
       "      <td>2.41223e+12</td>\n",
       "    </tr>\n",
       "    <tr>\n",
       "      <th>Canada</th>\n",
       "      <td>1.0431e+10</td>\n",
       "      <td>296</td>\n",
       "      <td>61.9454</td>\n",
       "      <td>6</td>\n",
       "      <td>17899</td>\n",
       "      <td>17620</td>\n",
       "      <td>215003</td>\n",
       "      <td>40930</td>\n",
       "      <td>12.01</td>\n",
       "      <td>149</td>\n",
       "      <td>1.52448e+12</td>\n",
       "      <td>1.56447e+12</td>\n",
       "      <td>1.59674e+12</td>\n",
       "      <td>1.61271e+12</td>\n",
       "      <td>1.56514e+12</td>\n",
       "      <td>1.61341e+12</td>\n",
       "      <td>1.66409e+12</td>\n",
       "      <td>1.69313e+12</td>\n",
       "      <td>1.73069e+12</td>\n",
       "      <td>1.77349e+12</td>\n",
       "    </tr>\n",
       "    <tr>\n",
       "      <th>China</th>\n",
       "      <td>1.27191e+11</td>\n",
       "      <td>93</td>\n",
       "      <td>19.7549</td>\n",
       "      <td>1</td>\n",
       "      <td>127050</td>\n",
       "      <td>126767</td>\n",
       "      <td>597237</td>\n",
       "      <td>411683</td>\n",
       "      <td>4.7</td>\n",
       "      <td>138</td>\n",
       "      <td>3.54281e+12</td>\n",
       "      <td>3.99233e+12</td>\n",
       "      <td>4.55904e+12</td>\n",
       "      <td>4.99778e+12</td>\n",
       "      <td>5.45925e+12</td>\n",
       "      <td>6.03966e+12</td>\n",
       "      <td>6.61249e+12</td>\n",
       "      <td>7.12498e+12</td>\n",
       "      <td>7.67245e+12</td>\n",
       "      <td>8.23012e+12</td>\n",
       "    </tr>\n",
       "    <tr>\n",
       "      <th>France</th>\n",
       "      <td>1.0597e+10</td>\n",
       "      <td>166</td>\n",
       "      <td>17.0203</td>\n",
       "      <td>9</td>\n",
       "      <td>13153</td>\n",
       "      <td>12973</td>\n",
       "      <td>130632</td>\n",
       "      <td>28601</td>\n",
       "      <td>9.93</td>\n",
       "      <td>114</td>\n",
       "      <td>2.54734e+12</td>\n",
       "      <td>2.60784e+12</td>\n",
       "      <td>2.66942e+12</td>\n",
       "      <td>2.67464e+12</td>\n",
       "      <td>2.59597e+12</td>\n",
       "      <td>2.64699e+12</td>\n",
       "      <td>2.70203e+12</td>\n",
       "      <td>2.70697e+12</td>\n",
       "      <td>2.72257e+12</td>\n",
       "      <td>2.72963e+12</td>\n",
       "    </tr>\n",
       "    <tr>\n",
       "      <th>Germany</th>\n",
       "      <td>1.3261e+10</td>\n",
       "      <td>165</td>\n",
       "      <td>17.9015</td>\n",
       "      <td>7</td>\n",
       "      <td>17027</td>\n",
       "      <td>16831</td>\n",
       "      <td>140566</td>\n",
       "      <td>27426</td>\n",
       "      <td>8.26</td>\n",
       "      <td>126</td>\n",
       "      <td>3.21397e+12</td>\n",
       "      <td>3.33289e+12</td>\n",
       "      <td>3.44156e+12</td>\n",
       "      <td>3.47881e+12</td>\n",
       "      <td>3.28334e+12</td>\n",
       "      <td>3.4173e+12</td>\n",
       "      <td>3.54237e+12</td>\n",
       "      <td>3.55672e+12</td>\n",
       "      <td>3.56732e+12</td>\n",
       "      <td>3.62439e+12</td>\n",
       "    </tr>\n",
       "    <tr>\n",
       "      <th>India</th>\n",
       "      <td>3.3195e+10</td>\n",
       "      <td>26</td>\n",
       "      <td>14.9691</td>\n",
       "      <td>8</td>\n",
       "      <td>15005</td>\n",
       "      <td>14841</td>\n",
       "      <td>128763</td>\n",
       "      <td>37209</td>\n",
       "      <td>8.58</td>\n",
       "      <td>115</td>\n",
       "      <td>1.15857e+12</td>\n",
       "      <td>1.26589e+12</td>\n",
       "      <td>1.37487e+12</td>\n",
       "      <td>1.42836e+12</td>\n",
       "      <td>1.54948e+12</td>\n",
       "      <td>1.70846e+12</td>\n",
       "      <td>1.82187e+12</td>\n",
       "      <td>1.92424e+12</td>\n",
       "      <td>2.05198e+12</td>\n",
       "      <td>2.20062e+12</td>\n",
       "    </tr>\n",
       "    <tr>\n",
       "      <th>Iran</th>\n",
       "      <td>9.172e+09</td>\n",
       "      <td>119</td>\n",
       "      <td>5.70772</td>\n",
       "      <td>13</td>\n",
       "      <td>8896</td>\n",
       "      <td>8819</td>\n",
       "      <td>57470</td>\n",
       "      <td>19125</td>\n",
       "      <td>6.46</td>\n",
       "      <td>72</td>\n",
       "      <td>Iran</td>\n",
       "      <td>Iran</td>\n",
       "      <td>Iran</td>\n",
       "      <td>Iran</td>\n",
       "      <td>Iran</td>\n",
       "      <td>Iran</td>\n",
       "      <td>Iran</td>\n",
       "      <td>Iran</td>\n",
       "      <td>Iran</td>\n",
       "      <td>Iran</td>\n",
       "    </tr>\n",
       "    <tr>\n",
       "      <th>Italy</th>\n",
       "      <td>6.53e+09</td>\n",
       "      <td>109</td>\n",
       "      <td>33.6672</td>\n",
       "      <td>11</td>\n",
       "      <td>10964</td>\n",
       "      <td>10794</td>\n",
       "      <td>111850</td>\n",
       "      <td>26661</td>\n",
       "      <td>10.2</td>\n",
       "      <td>106</td>\n",
       "      <td>2.15885e+12</td>\n",
       "      <td>2.20217e+12</td>\n",
       "      <td>2.23463e+12</td>\n",
       "      <td>2.21115e+12</td>\n",
       "      <td>2.08994e+12</td>\n",
       "      <td>2.12518e+12</td>\n",
       "      <td>2.13744e+12</td>\n",
       "      <td>2.07718e+12</td>\n",
       "      <td>2.04087e+12</td>\n",
       "      <td>2.03387e+12</td>\n",
       "    </tr>\n",
       "    <tr>\n",
       "      <th>Japan</th>\n",
       "      <td>1.8984e+10</td>\n",
       "      <td>149</td>\n",
       "      <td>10.2328</td>\n",
       "      <td>3</td>\n",
       "      <td>30504</td>\n",
       "      <td>30287</td>\n",
       "      <td>223024</td>\n",
       "      <td>61554</td>\n",
       "      <td>7.31</td>\n",
       "      <td>134</td>\n",
       "      <td>5.40504e+12</td>\n",
       "      <td>5.49654e+12</td>\n",
       "      <td>5.61704e+12</td>\n",
       "      <td>5.55853e+12</td>\n",
       "      <td>5.25131e+12</td>\n",
       "      <td>5.49872e+12</td>\n",
       "      <td>5.47374e+12</td>\n",
       "      <td>5.5691e+12</td>\n",
       "      <td>5.64466e+12</td>\n",
       "      <td>5.64288e+12</td>\n",
       "    </tr>\n",
       "    <tr>\n",
       "      <th>South Korea</th>\n",
       "      <td>South Korea</td>\n",
       "      <td>South Korea</td>\n",
       "      <td>South Korea</td>\n",
       "      <td>10</td>\n",
       "      <td>11983</td>\n",
       "      <td>11923</td>\n",
       "      <td>114675</td>\n",
       "      <td>22595</td>\n",
       "      <td>9.57</td>\n",
       "      <td>104</td>\n",
       "      <td>South Korea</td>\n",
       "      <td>South Korea</td>\n",
       "      <td>South Korea</td>\n",
       "      <td>South Korea</td>\n",
       "      <td>South Korea</td>\n",
       "      <td>South Korea</td>\n",
       "      <td>South Korea</td>\n",
       "      <td>South Korea</td>\n",
       "      <td>South Korea</td>\n",
       "      <td>South Korea</td>\n",
       "    </tr>\n",
       "    <tr>\n",
       "      <th>Russian Federation</th>\n",
       "      <td>3.0709e+10</td>\n",
       "      <td>214</td>\n",
       "      <td>17.2887</td>\n",
       "      <td>5</td>\n",
       "      <td>18534</td>\n",
       "      <td>18301</td>\n",
       "      <td>34266</td>\n",
       "      <td>12422</td>\n",
       "      <td>1.85</td>\n",
       "      <td>57</td>\n",
       "      <td>1.28132e+12</td>\n",
       "      <td>1.38579e+12</td>\n",
       "      <td>1.50407e+12</td>\n",
       "      <td>1.583e+12</td>\n",
       "      <td>1.4592e+12</td>\n",
       "      <td>1.52492e+12</td>\n",
       "      <td>1.58994e+12</td>\n",
       "      <td>1.64588e+12</td>\n",
       "      <td>1.66693e+12</td>\n",
       "      <td>1.67871e+12</td>\n",
       "    </tr>\n",
       "    <tr>\n",
       "      <th>Spain</th>\n",
       "      <td>4.923e+09</td>\n",
       "      <td>106</td>\n",
       "      <td>37.9686</td>\n",
       "      <td>12</td>\n",
       "      <td>9428</td>\n",
       "      <td>9330</td>\n",
       "      <td>123336</td>\n",
       "      <td>23964</td>\n",
       "      <td>13.08</td>\n",
       "      <td>115</td>\n",
       "      <td>1.35813e+12</td>\n",
       "      <td>1.41482e+12</td>\n",
       "      <td>1.46815e+12</td>\n",
       "      <td>1.48453e+12</td>\n",
       "      <td>1.43148e+12</td>\n",
       "      <td>1.43167e+12</td>\n",
       "      <td>1.41735e+12</td>\n",
       "      <td>1.38022e+12</td>\n",
       "      <td>1.35714e+12</td>\n",
       "      <td>1.37561e+12</td>\n",
       "    </tr>\n",
       "    <tr>\n",
       "      <th>United Kingdom</th>\n",
       "      <td>United Kingdom</td>\n",
       "      <td>United Kingdom</td>\n",
       "      <td>United Kingdom</td>\n",
       "      <td>4</td>\n",
       "      <td>20944</td>\n",
       "      <td>20357</td>\n",
       "      <td>206091</td>\n",
       "      <td>37874</td>\n",
       "      <td>9.84</td>\n",
       "      <td>139</td>\n",
       "      <td>2.35689e+12</td>\n",
       "      <td>2.41963e+12</td>\n",
       "      <td>2.4822e+12</td>\n",
       "      <td>2.47061e+12</td>\n",
       "      <td>2.36705e+12</td>\n",
       "      <td>2.4035e+12</td>\n",
       "      <td>2.45091e+12</td>\n",
       "      <td>2.47981e+12</td>\n",
       "      <td>2.53337e+12</td>\n",
       "      <td>2.60564e+12</td>\n",
       "    </tr>\n",
       "    <tr>\n",
       "      <th>United States</th>\n",
       "      <td>United States</td>\n",
       "      <td>United States</td>\n",
       "      <td>United States</td>\n",
       "      <td>2</td>\n",
       "      <td>96661</td>\n",
       "      <td>94747</td>\n",
       "      <td>792274</td>\n",
       "      <td>265436</td>\n",
       "      <td>8.2</td>\n",
       "      <td>230</td>\n",
       "      <td>1.44081e+13</td>\n",
       "      <td>1.47923e+13</td>\n",
       "      <td>1.50554e+13</td>\n",
       "      <td>1.50115e+13</td>\n",
       "      <td>1.45948e+13</td>\n",
       "      <td>1.49644e+13</td>\n",
       "      <td>1.5204e+13</td>\n",
       "      <td>1.55422e+13</td>\n",
       "      <td>1.57737e+13</td>\n",
       "      <td>1.61566e+13</td>\n",
       "    </tr>\n",
       "  </tbody>\n",
       "</table>\n",
       "</div>"
      ],
      "text/plain": [
       "                     Energy Supply Energy Supply per Capita     % Renewable  \\\n",
       "Country                                                                       \n",
       "Australia                5.386e+09                      231         11.8108   \n",
       "Brazil                  1.2149e+10                       59          69.648   \n",
       "Canada                  1.0431e+10                      296         61.9454   \n",
       "China                  1.27191e+11                       93         19.7549   \n",
       "France                  1.0597e+10                      166         17.0203   \n",
       "Germany                 1.3261e+10                      165         17.9015   \n",
       "India                   3.3195e+10                       26         14.9691   \n",
       "Iran                     9.172e+09                      119         5.70772   \n",
       "Italy                     6.53e+09                      109         33.6672   \n",
       "Japan                   1.8984e+10                      149         10.2328   \n",
       "South Korea            South Korea              South Korea     South Korea   \n",
       "Russian Federation      3.0709e+10                      214         17.2887   \n",
       "Spain                    4.923e+09                      106         37.9686   \n",
       "United Kingdom      United Kingdom           United Kingdom  United Kingdom   \n",
       "United States        United States            United States   United States   \n",
       "\n",
       "                   Rank Documents Citable documents Citations Self-citations  \\\n",
       "Country                                                                        \n",
       "Australia            14      8831              8725     90765          15606   \n",
       "Brazil               15      8668              8596     60702          14396   \n",
       "Canada                6     17899             17620    215003          40930   \n",
       "China                 1    127050            126767    597237         411683   \n",
       "France                9     13153             12973    130632          28601   \n",
       "Germany               7     17027             16831    140566          27426   \n",
       "India                 8     15005             14841    128763          37209   \n",
       "Iran                 13      8896              8819     57470          19125   \n",
       "Italy                11     10964             10794    111850          26661   \n",
       "Japan                 3     30504             30287    223024          61554   \n",
       "South Korea          10     11983             11923    114675          22595   \n",
       "Russian Federation    5     18534             18301     34266          12422   \n",
       "Spain                12      9428              9330    123336          23964   \n",
       "United Kingdom        4     20944             20357    206091          37874   \n",
       "United States         2     96661             94747    792274         265436   \n",
       "\n",
       "                   Citations per document H index         2006         2007  \\\n",
       "Country                                                                       \n",
       "Australia                           10.28     107  9.92339e+11  1.02194e+12   \n",
       "Brazil                                  7      86  1.77479e+12  1.84508e+12   \n",
       "Canada                              12.01     149  1.52448e+12  1.56447e+12   \n",
       "China                                 4.7     138  3.54281e+12  3.99233e+12   \n",
       "France                               9.93     114  2.54734e+12  2.60784e+12   \n",
       "Germany                              8.26     126  3.21397e+12  3.33289e+12   \n",
       "India                                8.58     115  1.15857e+12  1.26589e+12   \n",
       "Iran                                 6.46      72         Iran         Iran   \n",
       "Italy                                10.2     106  2.15885e+12  2.20217e+12   \n",
       "Japan                                7.31     134  5.40504e+12  5.49654e+12   \n",
       "South Korea                          9.57     104  South Korea  South Korea   \n",
       "Russian Federation                   1.85      57  1.28132e+12  1.38579e+12   \n",
       "Spain                               13.08     115  1.35813e+12  1.41482e+12   \n",
       "United Kingdom                       9.84     139  2.35689e+12  2.41963e+12   \n",
       "United States                         8.2     230  1.44081e+13  1.47923e+13   \n",
       "\n",
       "                           2008         2009         2010         2011  \\\n",
       "Country                                                                  \n",
       "Australia           1.06034e+12  1.09964e+12  1.11965e+12  1.14225e+12   \n",
       "Brazil              1.95712e+12  2.05681e+12  2.05421e+12  2.20887e+12   \n",
       "Canada              1.59674e+12  1.61271e+12  1.56514e+12  1.61341e+12   \n",
       "China               4.55904e+12  4.99778e+12  5.45925e+12  6.03966e+12   \n",
       "France              2.66942e+12  2.67464e+12  2.59597e+12  2.64699e+12   \n",
       "Germany             3.44156e+12  3.47881e+12  3.28334e+12   3.4173e+12   \n",
       "India               1.37487e+12  1.42836e+12  1.54948e+12  1.70846e+12   \n",
       "Iran                       Iran         Iran         Iran         Iran   \n",
       "Italy               2.23463e+12  2.21115e+12  2.08994e+12  2.12518e+12   \n",
       "Japan               5.61704e+12  5.55853e+12  5.25131e+12  5.49872e+12   \n",
       "South Korea         South Korea  South Korea  South Korea  South Korea   \n",
       "Russian Federation  1.50407e+12    1.583e+12   1.4592e+12  1.52492e+12   \n",
       "Spain               1.46815e+12  1.48453e+12  1.43148e+12  1.43167e+12   \n",
       "United Kingdom       2.4822e+12  2.47061e+12  2.36705e+12   2.4035e+12   \n",
       "United States       1.50554e+13  1.50115e+13  1.45948e+13  1.49644e+13   \n",
       "\n",
       "                           2012         2013         2014         2015  \n",
       "Country                                                                 \n",
       "Australia           1.16943e+12  1.21191e+12  1.24148e+12  1.27252e+12  \n",
       "Brazil              2.29524e+12  2.33921e+12  2.40974e+12  2.41223e+12  \n",
       "Canada              1.66409e+12  1.69313e+12  1.73069e+12  1.77349e+12  \n",
       "China               6.61249e+12  7.12498e+12  7.67245e+12  8.23012e+12  \n",
       "France              2.70203e+12  2.70697e+12  2.72257e+12  2.72963e+12  \n",
       "Germany             3.54237e+12  3.55672e+12  3.56732e+12  3.62439e+12  \n",
       "India               1.82187e+12  1.92424e+12  2.05198e+12  2.20062e+12  \n",
       "Iran                       Iran         Iran         Iran         Iran  \n",
       "Italy               2.13744e+12  2.07718e+12  2.04087e+12  2.03387e+12  \n",
       "Japan               5.47374e+12   5.5691e+12  5.64466e+12  5.64288e+12  \n",
       "South Korea         South Korea  South Korea  South Korea  South Korea  \n",
       "Russian Federation  1.58994e+12  1.64588e+12  1.66693e+12  1.67871e+12  \n",
       "Spain               1.41735e+12  1.38022e+12  1.35714e+12  1.37561e+12  \n",
       "United Kingdom      2.45091e+12  2.47981e+12  2.53337e+12  2.60564e+12  \n",
       "United States        1.5204e+13  1.55422e+13  1.57737e+13  1.61566e+13  "
      ]
     },
     "execution_count": 98,
     "metadata": {},
     "output_type": "execute_result"
    }
   ],
   "source": [
    "answer_one()"
   ]
  },
  {
   "cell_type": "markdown",
   "metadata": {},
   "source": [
    "### Question 2 (6.6%)\n",
    "The previous question joined three datasets then reduced this to just the top 15 entries. When you joined the datasets, but before you reduced this to the top 15 items, how many entries did you lose?\n",
    "\n",
    "*This function should return a single number.*"
   ]
  },
  {
   "cell_type": "code",
   "execution_count": 1,
   "metadata": {
    "collapsed": false
   },
   "outputs": [
    {
     "data": {
      "text/html": [
       "<svg width=\"800\" height=\"300\">\n",
       "  <circle cx=\"150\" cy=\"180\" r=\"80\" fill-opacity=\"0.2\" stroke=\"black\" stroke-width=\"2\" fill=\"blue\" />\n",
       "  <circle cx=\"200\" cy=\"100\" r=\"80\" fill-opacity=\"0.2\" stroke=\"black\" stroke-width=\"2\" fill=\"red\" />\n",
       "  <circle cx=\"100\" cy=\"100\" r=\"80\" fill-opacity=\"0.2\" stroke=\"black\" stroke-width=\"2\" fill=\"green\" />\n",
       "  <line x1=\"150\" y1=\"125\" x2=\"300\" y2=\"150\" stroke=\"black\" stroke-width=\"2\" fill=\"black\" stroke-dasharray=\"5,3\"/>\n",
       "  <text  x=\"300\" y=\"165\" font-family=\"Verdana\" font-size=\"35\">Everything but this!</text>\n",
       "</svg>"
      ],
      "text/plain": [
       "<IPython.core.display.HTML object>"
      ]
     },
     "metadata": {},
     "output_type": "display_data"
    }
   ],
   "source": [
    "%%HTML\n",
    "<svg width=\"800\" height=\"300\">\n",
    "  <circle cx=\"150\" cy=\"180\" r=\"80\" fill-opacity=\"0.2\" stroke=\"black\" stroke-width=\"2\" fill=\"blue\" />\n",
    "  <circle cx=\"200\" cy=\"100\" r=\"80\" fill-opacity=\"0.2\" stroke=\"black\" stroke-width=\"2\" fill=\"red\" />\n",
    "  <circle cx=\"100\" cy=\"100\" r=\"80\" fill-opacity=\"0.2\" stroke=\"black\" stroke-width=\"2\" fill=\"green\" />\n",
    "  <line x1=\"150\" y1=\"125\" x2=\"300\" y2=\"150\" stroke=\"black\" stroke-width=\"2\" fill=\"black\" stroke-dasharray=\"5,3\"/>\n",
    "  <text  x=\"300\" y=\"165\" font-family=\"Verdana\" font-size=\"35\">Everything but this!</text>\n",
    "</svg>"
   ]
  },
  {
   "cell_type": "code",
   "execution_count": null,
   "metadata": {
    "collapsed": false
   },
   "outputs": [],
   "source": [
    "def answer_two():\n",
    "    return \"ANSWER\""
   ]
  },
  {
   "cell_type": "markdown",
   "metadata": {},
   "source": [
    "<br>\n",
    "\n",
    "Answer the following questions in the context of only the top 15 countries by Scimagojr Rank (aka the DataFrame returned by `answer_one()`)"
   ]
  },
  {
   "cell_type": "markdown",
   "metadata": {},
   "source": [
    "### Question 3 (6.6%)\n",
    "What is the average GDP over the last 10 years for each country? (exclude missing values from this calculation.)\n",
    "\n",
    "*This function should return a Series named `avgGDP` with 15 countries and their average GDP sorted in descending order.*"
   ]
  },
  {
   "cell_type": "code",
   "execution_count": null,
   "metadata": {
    "collapsed": false,
    "scrolled": true
   },
   "outputs": [],
   "source": [
    "def answer_three():\n",
    "    Top15 = answer_one()\n",
    "    return \"ANSWER\""
   ]
  },
  {
   "cell_type": "markdown",
   "metadata": {},
   "source": [
    "### Question 4 (6.6%)\n",
    "By how much had the GDP changed over the 10 year span for the country with the 6th largest average GDP?\n",
    "\n",
    "*This function should return a single number.*"
   ]
  },
  {
   "cell_type": "code",
   "execution_count": null,
   "metadata": {
    "collapsed": false,
    "scrolled": true
   },
   "outputs": [],
   "source": [
    "def answer_four():\n",
    "    Top15 = answer_one()\n",
    "    return \"ANSWER\""
   ]
  },
  {
   "cell_type": "markdown",
   "metadata": {},
   "source": [
    "### Question 5 (6.6%)\n",
    "What is the mean `Energy Supply per Capita`?\n",
    "\n",
    "*This function should return a single number.*"
   ]
  },
  {
   "cell_type": "code",
   "execution_count": null,
   "metadata": {
    "collapsed": false
   },
   "outputs": [],
   "source": [
    "def answer_five():\n",
    "    Top15 = answer_one()\n",
    "    return \"ANSWER\""
   ]
  },
  {
   "cell_type": "markdown",
   "metadata": {},
   "source": [
    "### Question 6 (6.6%)\n",
    "What country has the maximum % Renewable and what is the percentage?\n",
    "\n",
    "*This function should return a tuple with the name of the country and the percentage.*"
   ]
  },
  {
   "cell_type": "code",
   "execution_count": null,
   "metadata": {
    "collapsed": false
   },
   "outputs": [],
   "source": [
    "def answer_six():\n",
    "    Top15 = answer_one()\n",
    "    return \"ANSWER\""
   ]
  },
  {
   "cell_type": "markdown",
   "metadata": {},
   "source": [
    "### Question 7 (6.6%)\n",
    "Create a new column that is the ratio of Self-Citations to Total Citations. \n",
    "What is the maximum value for this new column, and what country has the highest ratio?\n",
    "\n",
    "*This function should return a tuple with the name of the country and the ratio.*"
   ]
  },
  {
   "cell_type": "code",
   "execution_count": null,
   "metadata": {
    "collapsed": false
   },
   "outputs": [],
   "source": [
    "def answer_seven():\n",
    "    Top15 = answer_one()\n",
    "    return \"ANSWER\""
   ]
  },
  {
   "cell_type": "markdown",
   "metadata": {},
   "source": [
    "### Question 8 (6.6%)\n",
    "\n",
    "Create a column that estimates the population using Energy Supply and Energy Supply per capita. \n",
    "What is the third most populous country according to this estimate?\n",
    "\n",
    "*This function should return a single string value.*"
   ]
  },
  {
   "cell_type": "code",
   "execution_count": null,
   "metadata": {
    "collapsed": false
   },
   "outputs": [],
   "source": [
    "def answer_eight():\n",
    "    Top15 = answer_one()\n",
    "    return \"ANSWER\""
   ]
  },
  {
   "cell_type": "markdown",
   "metadata": {},
   "source": [
    "### Question 9 (6.6%)\n",
    "Create a column that estimates the number of citable documents per person. \n",
    "What is the correlation between the number of citable documents per capita and the energy supply per capita? Use the `.corr()` method, (Pearson's correlation).\n",
    "\n",
    "*This function should return a single number.*\n",
    "\n",
    "*(Optional: Use the built-in function `plot9()` to visualize the relationship between Energy Supply per Capita vs. Citable docs per Capita)*"
   ]
  },
  {
   "cell_type": "code",
   "execution_count": null,
   "metadata": {
    "collapsed": false
   },
   "outputs": [],
   "source": [
    "def answer_nine():\n",
    "    Top15 = answer_one()\n",
    "    return \"ANSWER\""
   ]
  },
  {
   "cell_type": "code",
   "execution_count": null,
   "metadata": {
    "collapsed": false
   },
   "outputs": [],
   "source": [
    "def plot9():\n",
    "    import matplotlib as plt\n",
    "    %matplotlib inline\n",
    "    \n",
    "    Top15 = answer_one()\n",
    "    Top15['PopEst'] = Top15['Energy Supply'] / Top15['Energy Supply per Capita']\n",
    "    Top15['Citable docs per Capita'] = Top15['Citable documents'] / Top15['PopEst']\n",
    "    Top15.plot(x='Citable docs per Capita', y='Energy Supply per Capita', kind='scatter', xlim=[0, 0.0006])"
   ]
  },
  {
   "cell_type": "code",
   "execution_count": null,
   "metadata": {
    "collapsed": false
   },
   "outputs": [],
   "source": [
    "#plot9() # Be sure to comment out plot9() before submitting the assignment!"
   ]
  },
  {
   "cell_type": "markdown",
   "metadata": {},
   "source": [
    "### Question 10 (6.6%)\n",
    "Create a new column with a 1 if the country's % Renewable value is at or above the median for all countries in the top 15, and a 0 if the country's % Renewable value is below the median.\n",
    "\n",
    "*This function should return a series named `HighRenew` whose index is the country name sorted in ascending order of rank.*"
   ]
  },
  {
   "cell_type": "code",
   "execution_count": null,
   "metadata": {
    "collapsed": false
   },
   "outputs": [],
   "source": [
    "def answer_ten():\n",
    "    Top15 = answer_one()\n",
    "    return \"ANSWER\""
   ]
  },
  {
   "cell_type": "markdown",
   "metadata": {},
   "source": [
    "### Question 11 (6.6%)\n",
    "Use the following dictionary to group the Countries by Continent, then create a dateframe that displays the sample size (the number of countries in each continent bin), and the sum, mean, and std deviation for the estimated population of each country.\n",
    "\n",
    "```python\n",
    "ContinentDict  = {'China':'Asia', \n",
    "                  'United States':'North America', \n",
    "                  'Japan':'Asia', \n",
    "                  'United Kingdom':'Europe', \n",
    "                  'Russian Federation':'Europe', \n",
    "                  'Canada':'North America', \n",
    "                  'Germany':'Europe', \n",
    "                  'India':'Asia',\n",
    "                  'France':'Europe', \n",
    "                  'South Korea':'Asia', \n",
    "                  'Italy':'Europe', \n",
    "                  'Spain':'Europe', \n",
    "                  'Iran':'Asia',\n",
    "                  'Australia':'Australia', \n",
    "                  'Brazil':'South America'}\n",
    "```\n",
    "\n",
    "*This function should return a DataFrame with index named Continent `['Asia', 'Australia', 'Europe', 'North America', 'South America']` and columns `['size', 'sum', 'mean', 'std']`*"
   ]
  },
  {
   "cell_type": "code",
   "execution_count": null,
   "metadata": {
    "collapsed": false
   },
   "outputs": [],
   "source": [
    "def answer_eleven():\n",
    "    Top15 = answer_one()\n",
    "    return \"ANSWER\""
   ]
  },
  {
   "cell_type": "markdown",
   "metadata": {},
   "source": [
    "### Question 12 (6.6%)\n",
    "Cut % Renewable into 5 bins. Group Top15 by the Continent, as well as these new % Renewable bins. How many countries are in each of these groups?\n",
    "\n",
    "*This function should return a __Series__ with a MultiIndex of `Continent`, then the bins for `% Renewable`. Do not include groups with no countries.*"
   ]
  },
  {
   "cell_type": "code",
   "execution_count": null,
   "metadata": {
    "collapsed": false,
    "scrolled": true
   },
   "outputs": [],
   "source": [
    "def answer_twelve():\n",
    "    Top15 = answer_one()\n",
    "    return \"ANSWER\""
   ]
  },
  {
   "cell_type": "markdown",
   "metadata": {},
   "source": [
    "### Question 13 (6.6%)\n",
    "Convert the Population Estimate series to a string with thousands separator (using commas). Do not round the results.\n",
    "\n",
    "e.g. 317615384.61538464 -> 317,615,384.61538464\n",
    "\n",
    "*This function should return a Series `PopEst` whose index is the country name and whose values are the population estimate string.*"
   ]
  },
  {
   "cell_type": "code",
   "execution_count": null,
   "metadata": {
    "collapsed": false,
    "scrolled": true
   },
   "outputs": [],
   "source": [
    "def answer_thirteen():\n",
    "    Top15 = answer_one()\n",
    "    return \"ANSWER\""
   ]
  },
  {
   "cell_type": "markdown",
   "metadata": {},
   "source": [
    "### Optional\n",
    "\n",
    "Use the built in function `plot_optional()` to see an example visualization."
   ]
  },
  {
   "cell_type": "code",
   "execution_count": null,
   "metadata": {
    "collapsed": false,
    "scrolled": true
   },
   "outputs": [],
   "source": [
    "def plot_optional():\n",
    "    import matplotlib as plt\n",
    "    %matplotlib inline\n",
    "    Top15 = answer_one()\n",
    "    ax = Top15.plot(x='Rank', y='% Renewable', kind='scatter', \n",
    "                    c=['#e41a1c','#377eb8','#e41a1c','#4daf4a','#4daf4a','#377eb8','#4daf4a','#e41a1c',\n",
    "                       '#4daf4a','#e41a1c','#4daf4a','#4daf4a','#e41a1c','#dede00','#ff7f00'], \n",
    "                    xticks=range(1,16), s=6*Top15['2014']/10**10, alpha=.75, figsize=[16,6]);\n",
    "\n",
    "    for i, txt in enumerate(Top15.index):\n",
    "        ax.annotate(txt, [Top15['Rank'][i], Top15['% Renewable'][i]], ha='center')\n",
    "\n",
    "    print(\"This is an example of a visualization that can be created to help understand the data. \\\n",
    "This is a bubble chart showing % Renewable vs. Rank. The size of the bubble corresponds to the countries' \\\n",
    "2014 GDP, and the color corresponds to the continent.\")"
   ]
  },
  {
   "cell_type": "code",
   "execution_count": null,
   "metadata": {
    "collapsed": false
   },
   "outputs": [],
   "source": [
    "#plot_optional() # Be sure to comment out plot_optional() before submitting the assignment!"
   ]
  }
 ],
 "metadata": {
  "anaconda-cloud": {},
  "coursera": {
   "course_slug": "python-data-analysis",
   "graded_item_id": "zAr06",
   "launcher_item_id": "KSSjT",
   "part_id": "SL3fU"
  },
  "kernelspec": {
   "display_name": "Python 2",
   "language": "python",
   "name": "python2"
  },
  "language_info": {
   "codemirror_mode": {
    "name": "ipython",
    "version": 2
   },
   "file_extension": ".py",
   "mimetype": "text/x-python",
   "name": "python",
   "nbconvert_exporter": "python",
   "pygments_lexer": "ipython2",
   "version": "2.7.11"
  }
 },
 "nbformat": 4,
 "nbformat_minor": 0
}
